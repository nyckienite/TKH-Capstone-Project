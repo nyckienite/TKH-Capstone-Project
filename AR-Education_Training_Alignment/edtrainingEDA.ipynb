{
 "cells": [
  {
   "cell_type": "markdown",
   "id": "a6a7a295",
   "metadata": {},
   "source": [
    "## Education & Training Alignment"
   ]
  },
  {
   "cell_type": "markdown",
   "id": "f5176f0a",
   "metadata": {},
   "source": [
    "This section of the analysis focuses on how education and formal training align with the realities of the data science job market.  \n",
    "We will explore three key research questions:\n",
    "\n",
    "### Research Questions\n",
    "1. **Education vs. Salary/Seniority**  \n",
    "   - How does the required education level correlate with salary ranges and seniority level in data science roles?  \n",
    "   - Example: Do master’s or PhD holders consistently earn more or secure higher-level positions compared to those with bachelor’s degrees or bootcamp training?\n",
    "\n",
    "2. **Skills Gap in Formal Education**  \n",
    "   - Are there technical skills or tools that are **highly demanded in job postings** but are **rarely taught** in formal education programs?  \n",
    "   - Example: Cloud platforms (AWS, GCP, Azure), version control (Git/GitHub), or modern ML frameworks (TensorFlow, PyTorch).\n",
    "\n",
    "3. **Job Postings vs. Curricula**  \n",
    "   - How well do job postings align with the skills listed by educational institutions?  \n",
    "   - Which **emerging skills** are appearing in postings but not yet common in curricula?  \n",
    "   - Example: Generative AI tools, MLOps, or advanced data visualization libraries.\n",
    "\n",
    "---\n",
    "\n",
    "### Expected Outcomes\n",
    "- Identify whether higher education is a strong predictor of salary and role seniority.  \n",
    "- Highlight **gaps between industry demand and academic curricula**.  \n",
    "- Provide recommendations for how training programs (bootcamps, universities, online courses) can better align with real-world employer expectations.\n",
    "\n",
    "---\n",
    "\n",
    "### Data Needed\n",
    "- Education requirements from job postings.  \n",
    "- Salary data and seniority levels (junior, mid, senior).  \n",
    "- Curriculum data from universities, bootcamps, and online programs.  \n",
    "- Frequency of technical skills mentioned in both postings and curricula."
   ]
  },
  {
   "cell_type": "code",
   "execution_count": 25,
   "id": "9e3c6867",
   "metadata": {},
   "outputs": [],
   "source": [
    "import pandas as pd \n",
    "import numpy as np\n",
    "\n",
    "import seaborn as sns\n",
    "import matplotlib.pyplot as plt\n",
    "import plotly.express as px"
   ]
  },
  {
   "cell_type": "markdown",
   "id": "a98f2cdc",
   "metadata": {},
   "source": [
    "## Dataset Loading and Initial Exploration\n",
    "\n",
    "We begin by loading the AI job dataset into a pandas DataFrame.  \n",
    "To understand the dataset’s structure and quality, we perform three quick checks:  \n",
    "\n",
    "1. **`info()`** – Displays the number of rows/columns, data types, and non-null counts.  \n",
    "2. **`describe()`** – Summarizes numeric columns (count, mean, std, min, quartiles, max).  \n",
    "3. **`head()`** – Previews the first 5 rows to confirm the data loaded correctly.  \n",
    "\n",
    "These steps give us a foundational understanding of the dataset before deeper analysis."
   ]
  },
  {
   "cell_type": "code",
   "execution_count": 26,
   "id": "be0fa832",
   "metadata": {},
   "outputs": [
    {
     "name": "stdout",
     "output_type": "stream",
     "text": [
      "<class 'pandas.core.frame.DataFrame'>\n",
      "RangeIndex: 15000 entries, 0 to 14999\n",
      "Data columns (total 19 columns):\n",
      " #   Column                  Non-Null Count  Dtype  \n",
      "---  ------                  --------------  -----  \n",
      " 0   job_id                  15000 non-null  object \n",
      " 1   job_title               15000 non-null  object \n",
      " 2   salary_usd              15000 non-null  int64  \n",
      " 3   salary_currency         15000 non-null  object \n",
      " 4   experience_level        15000 non-null  object \n",
      " 5   employment_type         15000 non-null  object \n",
      " 6   company_location        15000 non-null  object \n",
      " 7   company_size            15000 non-null  object \n",
      " 8   employee_residence      15000 non-null  object \n",
      " 9   remote_ratio            15000 non-null  int64  \n",
      " 10  required_skills         15000 non-null  object \n",
      " 11  education_required      15000 non-null  object \n",
      " 12  years_experience        15000 non-null  int64  \n",
      " 13  industry                15000 non-null  object \n",
      " 14  posting_date            15000 non-null  object \n",
      " 15  application_deadline    15000 non-null  object \n",
      " 16  job_description_length  15000 non-null  int64  \n",
      " 17  benefits_score          15000 non-null  float64\n",
      " 18  company_name            15000 non-null  object \n",
      "dtypes: float64(1), int64(4), object(14)\n",
      "memory usage: 2.2+ MB\n"
     ]
    },
    {
     "data": {
      "text/html": [
       "<div>\n",
       "<style scoped>\n",
       "    .dataframe tbody tr th:only-of-type {\n",
       "        vertical-align: middle;\n",
       "    }\n",
       "\n",
       "    .dataframe tbody tr th {\n",
       "        vertical-align: top;\n",
       "    }\n",
       "\n",
       "    .dataframe thead th {\n",
       "        text-align: right;\n",
       "    }\n",
       "</style>\n",
       "<table border=\"1\" class=\"dataframe\">\n",
       "  <thead>\n",
       "    <tr style=\"text-align: right;\">\n",
       "      <th></th>\n",
       "      <th>job_id</th>\n",
       "      <th>job_title</th>\n",
       "      <th>salary_usd</th>\n",
       "      <th>salary_currency</th>\n",
       "      <th>experience_level</th>\n",
       "      <th>employment_type</th>\n",
       "      <th>company_location</th>\n",
       "      <th>company_size</th>\n",
       "      <th>employee_residence</th>\n",
       "      <th>remote_ratio</th>\n",
       "      <th>required_skills</th>\n",
       "      <th>education_required</th>\n",
       "      <th>years_experience</th>\n",
       "      <th>industry</th>\n",
       "      <th>posting_date</th>\n",
       "      <th>application_deadline</th>\n",
       "      <th>job_description_length</th>\n",
       "      <th>benefits_score</th>\n",
       "      <th>company_name</th>\n",
       "    </tr>\n",
       "  </thead>\n",
       "  <tbody>\n",
       "    <tr>\n",
       "      <th>0</th>\n",
       "      <td>AI00001</td>\n",
       "      <td>AI Research Scientist</td>\n",
       "      <td>90376</td>\n",
       "      <td>USD</td>\n",
       "      <td>SE</td>\n",
       "      <td>CT</td>\n",
       "      <td>China</td>\n",
       "      <td>M</td>\n",
       "      <td>China</td>\n",
       "      <td>50</td>\n",
       "      <td>Tableau, PyTorch, Kubernetes, Linux, NLP</td>\n",
       "      <td>Bachelor</td>\n",
       "      <td>9</td>\n",
       "      <td>Automotive</td>\n",
       "      <td>2024-10-18</td>\n",
       "      <td>2024-11-07</td>\n",
       "      <td>1076</td>\n",
       "      <td>5.9</td>\n",
       "      <td>Smart Analytics</td>\n",
       "    </tr>\n",
       "    <tr>\n",
       "      <th>1</th>\n",
       "      <td>AI00002</td>\n",
       "      <td>AI Software Engineer</td>\n",
       "      <td>61895</td>\n",
       "      <td>USD</td>\n",
       "      <td>EN</td>\n",
       "      <td>CT</td>\n",
       "      <td>Canada</td>\n",
       "      <td>M</td>\n",
       "      <td>Ireland</td>\n",
       "      <td>100</td>\n",
       "      <td>Deep Learning, AWS, Mathematics, Python, Docker</td>\n",
       "      <td>Master</td>\n",
       "      <td>1</td>\n",
       "      <td>Media</td>\n",
       "      <td>2024-11-20</td>\n",
       "      <td>2025-01-11</td>\n",
       "      <td>1268</td>\n",
       "      <td>5.2</td>\n",
       "      <td>TechCorp Inc</td>\n",
       "    </tr>\n",
       "    <tr>\n",
       "      <th>2</th>\n",
       "      <td>AI00003</td>\n",
       "      <td>AI Specialist</td>\n",
       "      <td>152626</td>\n",
       "      <td>USD</td>\n",
       "      <td>MI</td>\n",
       "      <td>FL</td>\n",
       "      <td>Switzerland</td>\n",
       "      <td>L</td>\n",
       "      <td>South Korea</td>\n",
       "      <td>0</td>\n",
       "      <td>Kubernetes, Deep Learning, Java, Hadoop, NLP</td>\n",
       "      <td>Associate</td>\n",
       "      <td>2</td>\n",
       "      <td>Education</td>\n",
       "      <td>2025-03-18</td>\n",
       "      <td>2025-04-07</td>\n",
       "      <td>1974</td>\n",
       "      <td>9.4</td>\n",
       "      <td>Autonomous Tech</td>\n",
       "    </tr>\n",
       "    <tr>\n",
       "      <th>3</th>\n",
       "      <td>AI00004</td>\n",
       "      <td>NLP Engineer</td>\n",
       "      <td>80215</td>\n",
       "      <td>USD</td>\n",
       "      <td>SE</td>\n",
       "      <td>FL</td>\n",
       "      <td>India</td>\n",
       "      <td>M</td>\n",
       "      <td>India</td>\n",
       "      <td>50</td>\n",
       "      <td>Scala, SQL, Linux, Python</td>\n",
       "      <td>PhD</td>\n",
       "      <td>7</td>\n",
       "      <td>Consulting</td>\n",
       "      <td>2024-12-23</td>\n",
       "      <td>2025-02-24</td>\n",
       "      <td>1345</td>\n",
       "      <td>8.6</td>\n",
       "      <td>Future Systems</td>\n",
       "    </tr>\n",
       "    <tr>\n",
       "      <th>4</th>\n",
       "      <td>AI00005</td>\n",
       "      <td>AI Consultant</td>\n",
       "      <td>54624</td>\n",
       "      <td>EUR</td>\n",
       "      <td>EN</td>\n",
       "      <td>PT</td>\n",
       "      <td>France</td>\n",
       "      <td>S</td>\n",
       "      <td>Singapore</td>\n",
       "      <td>100</td>\n",
       "      <td>MLOps, Java, Tableau, Python</td>\n",
       "      <td>Master</td>\n",
       "      <td>0</td>\n",
       "      <td>Media</td>\n",
       "      <td>2025-04-15</td>\n",
       "      <td>2025-06-23</td>\n",
       "      <td>1989</td>\n",
       "      <td>6.6</td>\n",
       "      <td>Advanced Robotics</td>\n",
       "    </tr>\n",
       "  </tbody>\n",
       "</table>\n",
       "</div>"
      ],
      "text/plain": [
       "    job_id              job_title  salary_usd salary_currency  \\\n",
       "0  AI00001  AI Research Scientist       90376             USD   \n",
       "1  AI00002   AI Software Engineer       61895             USD   \n",
       "2  AI00003          AI Specialist      152626             USD   \n",
       "3  AI00004           NLP Engineer       80215             USD   \n",
       "4  AI00005          AI Consultant       54624             EUR   \n",
       "\n",
       "  experience_level employment_type company_location company_size  \\\n",
       "0               SE              CT            China            M   \n",
       "1               EN              CT           Canada            M   \n",
       "2               MI              FL      Switzerland            L   \n",
       "3               SE              FL            India            M   \n",
       "4               EN              PT           France            S   \n",
       "\n",
       "  employee_residence  remote_ratio  \\\n",
       "0              China            50   \n",
       "1            Ireland           100   \n",
       "2        South Korea             0   \n",
       "3              India            50   \n",
       "4          Singapore           100   \n",
       "\n",
       "                                   required_skills education_required  \\\n",
       "0         Tableau, PyTorch, Kubernetes, Linux, NLP           Bachelor   \n",
       "1  Deep Learning, AWS, Mathematics, Python, Docker             Master   \n",
       "2     Kubernetes, Deep Learning, Java, Hadoop, NLP          Associate   \n",
       "3                        Scala, SQL, Linux, Python                PhD   \n",
       "4                     MLOps, Java, Tableau, Python             Master   \n",
       "\n",
       "   years_experience    industry posting_date application_deadline  \\\n",
       "0                 9  Automotive   2024-10-18           2024-11-07   \n",
       "1                 1       Media   2024-11-20           2025-01-11   \n",
       "2                 2   Education   2025-03-18           2025-04-07   \n",
       "3                 7  Consulting   2024-12-23           2025-02-24   \n",
       "4                 0       Media   2025-04-15           2025-06-23   \n",
       "\n",
       "   job_description_length  benefits_score       company_name  \n",
       "0                    1076             5.9    Smart Analytics  \n",
       "1                    1268             5.2       TechCorp Inc  \n",
       "2                    1974             9.4    Autonomous Tech  \n",
       "3                    1345             8.6     Future Systems  \n",
       "4                    1989             6.6  Advanced Robotics  "
      ]
     },
     "execution_count": 26,
     "metadata": {},
     "output_type": "execute_result"
    }
   ],
   "source": [
    "# Load the AI job dataset from the datasets folder into a DataFrame called 'aijobs'\n",
    "aijobs = pd.read_csv(\"../datasets/ai_job_dataset.csv\")\n",
    "\n",
    "# Display general information about the dataset:\n",
    "# number of rows/columns, column names, data types, and non-null counts\n",
    "aijobs.info()\n",
    "\n",
    "# Generate basic descriptive statistics for numeric columns\n",
    "# (count, mean, std, min, quartiles, max)\n",
    "aijobs.describe()\n",
    "\n",
    "# Preview the first 5 rows of the dataset\n",
    "# This helps confirm the data loaded correctly and shows a sample of the values\n",
    "aijobs.head()"
   ]
  },
  {
   "cell_type": "markdown",
   "id": "ebb09304",
   "metadata": {},
   "source": [
    "### Check Dataset Dimensions\n",
    "\n",
    "The `.shape` attribute tells us the size of the dataset in terms of rows and columns.  \n",
    "This helps confirm the overall scale of the data we’re working with.  \n",
    "Here, we also format the output to clearly state the row and column counts."
   ]
  },
  {
   "cell_type": "code",
   "execution_count": 27,
   "id": "9d569be3",
   "metadata": {},
   "outputs": [
    {
     "name": "stdout",
     "output_type": "stream",
     "text": [
      "The dataset contains 15,000 rows and 19 columns.\n"
     ]
    }
   ],
   "source": [
    "# Check the number of rows and columns in the dataset\n",
    "# .shape[0] = number of rows, .shape[1] = number of columns\n",
    "aijobs.shape\n",
    "print(f\"The dataset contains {aijobs.shape[0]:,} rows and {aijobs.shape[1]} columns.\")\n"
   ]
  },
  {
   "cell_type": "markdown",
   "id": "c56d8abb",
   "metadata": {},
   "source": [
    "### Check for Missing Values\n",
    "\n",
    "Before analysis, it’s important to identify any missing data.  \n",
    "The `.isnull().sum()` function shows the number of null values in each column.  \n",
    "This helps us decide if we need to clean, impute, or drop certain columns/rows.\n",
    "\n",
    "To ensure clean data for analysis, we remove all rows that contain any null values using `.dropna()`.  \n",
    "We then confirm the cleanup by checking the total number of missing values again.  \n",
    "If the result is `0`, it means the dataset has no remaining nulls."
   ]
  },
  {
   "cell_type": "code",
   "execution_count": 28,
   "id": "fd41f40c",
   "metadata": {},
   "outputs": [
    {
     "data": {
      "text/plain": [
       "job_id                    0\n",
       "job_title                 0\n",
       "salary_usd                0\n",
       "salary_currency           0\n",
       "experience_level          0\n",
       "employment_type           0\n",
       "company_location          0\n",
       "company_size              0\n",
       "employee_residence        0\n",
       "remote_ratio              0\n",
       "required_skills           0\n",
       "education_required        0\n",
       "years_experience          0\n",
       "industry                  0\n",
       "posting_date              0\n",
       "application_deadline      0\n",
       "job_description_length    0\n",
       "benefits_score            0\n",
       "company_name              0\n",
       "dtype: int64"
      ]
     },
     "execution_count": 28,
     "metadata": {},
     "output_type": "execute_result"
    }
   ],
   "source": [
    "# Check how many null (missing) values are present in each column\n",
    "aijobs.isnull().sum()"
   ]
  },
  {
   "cell_type": "code",
   "execution_count": 29,
   "id": "c57dd67a",
   "metadata": {},
   "outputs": [
    {
     "data": {
      "text/plain": [
       "0"
      ]
     },
     "execution_count": 29,
     "metadata": {},
     "output_type": "execute_result"
    }
   ],
   "source": [
    "# Check the total number of missing values across the entire dataset\n",
    "aijobs.isnull().sum().sum()"
   ]
  },
  {
   "cell_type": "code",
   "execution_count": 30,
   "id": "e9d50317",
   "metadata": {},
   "outputs": [
    {
     "data": {
      "text/plain": [
       "0"
      ]
     },
     "execution_count": 30,
     "metadata": {},
     "output_type": "execute_result"
    }
   ],
   "source": [
    "# Create a cleaned version of the dataset by dropping rows with missing values\n",
    "aijobs_clean = aijobs.dropna()\n",
    "\n",
    "# Verify that no missing values remain\n",
    "aijobs_clean.isnull().sum().sum()"
   ]
  },
  {
   "cell_type": "markdown",
   "id": "8e8b245f",
   "metadata": {},
   "source": [
    "### Create Subset for Education & Training Alignment\n",
    "\n",
    "For the education and training research questions, we only need a subset of the dataset.  \n",
    "We filter the cleaned DataFrame to keep the most relevant columns:  \n",
    "\n",
    "- `job_id` → unique job identifier  \n",
    "- `salary_usd` → standardized salary measure  \n",
    "- `experience_level` → seniority of the role  \n",
    "- `education_required` → education level listed in posting  \n",
    "- `years_experience` → required years of experience  \n",
    "- `required_skills` → technical/soft skills required  \n",
    "- `posting_date` → track emerging/temporal trends  \n",
    "- `industry` → industry context for the role "
   ]
  },
  {
   "cell_type": "code",
   "execution_count": 31,
   "id": "2934a5bc",
   "metadata": {},
   "outputs": [
    {
     "name": "stdout",
     "output_type": "stream",
     "text": [
      "        job_id  salary_usd experience_level education_required  \\\n",
      "0      AI00001       90376               SE           Bachelor   \n",
      "1      AI00002       61895               EN             Master   \n",
      "2      AI00003      152626               MI          Associate   \n",
      "3      AI00004       80215               SE                PhD   \n",
      "4      AI00005       54624               EN             Master   \n",
      "...        ...         ...              ...                ...   \n",
      "14995  AI14996       38604               EN           Bachelor   \n",
      "14996  AI14997       57811               EN             Master   \n",
      "14997  AI14998      189490               EX          Associate   \n",
      "14998  AI14999       79461               EN                PhD   \n",
      "14999  AI15000       56481               MI                PhD   \n",
      "\n",
      "       years_experience                                  required_skills  \\\n",
      "0                     9         Tableau, PyTorch, Kubernetes, Linux, NLP   \n",
      "1                     1  Deep Learning, AWS, Mathematics, Python, Docker   \n",
      "2                     2     Kubernetes, Deep Learning, Java, Hadoop, NLP   \n",
      "3                     7                        Scala, SQL, Linux, Python   \n",
      "4                     0                     MLOps, Java, Tableau, Python   \n",
      "...                 ...                                              ...   \n",
      "14995                 1                          Java, Kubernetes, Azure   \n",
      "14996                 0          Mathematics, Docker, SQL, Deep Learning   \n",
      "14997                17                                Scala, Spark, NLP   \n",
      "14998                 1        Java, Computer Vision, Python, TensorFlow   \n",
      "14999                 2    Scala, Azure, Deep Learning, GCP, Mathematics   \n",
      "\n",
      "      posting_date       industry  \n",
      "0       2024-10-18     Automotive  \n",
      "1       2024-11-20          Media  \n",
      "2       2025-03-18      Education  \n",
      "3       2024-12-23     Consulting  \n",
      "4       2025-04-15          Media  \n",
      "...            ...            ...  \n",
      "14995   2025-02-06         Energy  \n",
      "14996   2024-10-16     Government  \n",
      "14997   2024-03-19  Manufacturing  \n",
      "14998   2024-03-22    Real Estate  \n",
      "14999   2024-07-18     Technology  \n",
      "\n",
      "[15000 rows x 8 columns]\n"
     ]
    }
   ],
   "source": [
    "# Filter dataset to only include relevant columns for Education & Training Alignment analysis\n",
    "education_jobs = aijobs_clean[[\"job_id\", \"salary_usd\", \"experience_level\", \"education_required\",\"years_experience\", \"required_skills\", \"posting_date\", \"industry\"]]\n",
    "print(education_jobs)\n",
    "\n"
   ]
  },
  {
   "cell_type": "code",
   "execution_count": 32,
   "id": "12c88c54",
   "metadata": {},
   "outputs": [],
   "source": [
    "# Save the subset to a new CSV file\n",
    "education_jobs.to_csv('education_jobs.csv', index=False)"
   ]
  }
 ],
 "metadata": {
  "kernelspec": {
   "display_name": "ds",
   "language": "python",
   "name": "python3"
  },
  "language_info": {
   "codemirror_mode": {
    "name": "ipython",
    "version": 3
   },
   "file_extension": ".py",
   "mimetype": "text/x-python",
   "name": "python",
   "nbconvert_exporter": "python",
   "pygments_lexer": "ipython3",
   "version": "3.12.9"
  }
 },
 "nbformat": 4,
 "nbformat_minor": 5
}
